{
 "cells": [
  {
   "cell_type": "code",
   "execution_count": 5,
   "metadata": {},
   "outputs": [],
   "source": [
    "from sklearn.feature_extraction import DictVectorizer\n",
    "v = DictVectorizer(sparse=False)"
   ]
  },
  {
   "cell_type": "code",
   "execution_count": 8,
   "metadata": {},
   "outputs": [
    {
     "data": {
      "text/plain": [
       "array([[1., 2., 0.],\n",
       "       [0., 3., 1.]])"
      ]
     },
     "execution_count": 8,
     "metadata": {},
     "output_type": "execute_result"
    }
   ],
   "source": [
    "D = [{'A':1,'B':2},{'B':3,'C':1}]\n",
    "X = v.fit_transform(D)\n",
    "X"
   ]
  },
  {
   "cell_type": "code",
   "execution_count": 9,
   "metadata": {},
   "outputs": [
    {
     "data": {
      "text/plain": [
       "['A', 'B', 'C']"
      ]
     },
     "execution_count": 9,
     "metadata": {},
     "output_type": "execute_result"
    }
   ],
   "source": [
    "v.feature_names_"
   ]
  },
  {
   "cell_type": "code",
   "execution_count": 12,
   "metadata": {},
   "outputs": [
    {
     "data": {
      "text/plain": [
       "array([[0., 0., 4.]])"
      ]
     },
     "execution_count": 12,
     "metadata": {},
     "output_type": "execute_result"
    }
   ],
   "source": [
    "v.transform({'C':4,'D':3})"
   ]
  },
  {
   "cell_type": "markdown",
   "metadata": {},
   "source": [
    "### CountVectorizer\n",
    "- 가장 많이 사용하는 벡터라이져\n",
    "- 사용 방법\n",
    "    - 클래스 객체 생성\n",
    "    - 말뭉치를 넣고 fit 메소드를 실행\n",
    "    - vocabulary_ 속성에 단어장이 자동 생성됨"
   ]
  },
  {
   "cell_type": "code",
   "execution_count": 13,
   "metadata": {},
   "outputs": [
    {
     "data": {
      "text/plain": [
       "{'is': 3,\n",
       " 'this': 9,\n",
       " 'the': 7,\n",
       " 'first': 2,\n",
       " 'document': 1,\n",
       " 'and': 0,\n",
       " 'third': 8,\n",
       " 'one': 5,\n",
       " 'last': 4,\n",
       " 'second': 6}"
      ]
     },
     "execution_count": 13,
     "metadata": {},
     "output_type": "execute_result"
    }
   ],
   "source": [
    "from sklearn.feature_extraction.text import CountVectorizer # 가장 많이쓰는 벡터라이져...\n",
    "\n",
    "corpus = {\n",
    "    'This is the first document.',\n",
    "    'This is the second document.',\n",
    "    'And the third one.',\n",
    "    'Is this the first document?',\n",
    "    'The last document?',\n",
    "}\n",
    "vect = CountVectorizer()\n",
    "vect.fit(corpus)\n",
    "vect.vocabulary_"
   ]
  },
  {
   "cell_type": "code",
   "execution_count": 14,
   "metadata": {},
   "outputs": [
    {
     "data": {
      "text/plain": [
       "{'first': 1, 'document': 0, 'third': 5, 'one': 3, 'last': 2, 'second': 4}"
      ]
     },
     "execution_count": 14,
     "metadata": {},
     "output_type": "execute_result"
    }
   ],
   "source": [
    "#직접 스탑워즈를 입력해주기\n",
    "vect = CountVectorizer(stop_words=['and','is','the','this']).fit(corpus)\n",
    "vect.vocabulary_"
   ]
  },
  {
   "cell_type": "code",
   "execution_count": 15,
   "metadata": {},
   "outputs": [
    {
     "data": {
      "text/plain": [
       "{'document': 0, 'second': 1}"
      ]
     },
     "execution_count": 15,
     "metadata": {},
     "output_type": "execute_result"
    }
   ],
   "source": [
    "#영어에서 자주사용하는 것을 알아서 없애기\n",
    "vect = CountVectorizer(stop_words=\"english\").fit(corpus)\n",
    "vect.vocabulary_"
   ]
  },
  {
   "cell_type": "code",
   "execution_count": null,
   "metadata": {},
   "outputs": [],
   "source": [
    "# 토크나이저 사용하기\n",
    "import nltk\n",
    "\n",
    "vect = CountVectorizer(tokenizer=nltk.word_tokenize).fit(corpus)\n",
    "vect.vocabulary_"
   ]
  },
  {
   "cell_type": "code",
   "execution_count": 16,
   "metadata": {},
   "outputs": [
    {
     "data": {
      "text/plain": [
       "{'this': 2, 'the': 0, 'third': 1}"
      ]
     },
     "execution_count": 16,
     "metadata": {},
     "output_type": "execute_result"
    }
   ],
   "source": [
    "# 토큰 패턴을 정규표현식으로 지정하기\n",
    "vect = CountVectorizer(token_pattern = \"t\\w+\").fit(corpus)\n",
    "vect.vocabulary_"
   ]
  },
  {
   "cell_type": "code",
   "execution_count": 20,
   "metadata": {},
   "outputs": [
    {
     "data": {
      "text/plain": [
       "{'is this': 3,\n",
       " 'this the': 12,\n",
       " 'the first': 6,\n",
       " 'first document': 1,\n",
       " 'and the': 0,\n",
       " 'the third': 9,\n",
       " 'third one': 10,\n",
       " 'this is': 11,\n",
       " 'is the': 2,\n",
       " 'the last': 7,\n",
       " 'last document': 4,\n",
       " 'the second': 8,\n",
       " 'second document': 5}"
      ]
     },
     "execution_count": 20,
     "metadata": {},
     "output_type": "execute_result"
    }
   ],
   "source": [
    "# 토큰 ngram  단어의 기준을 1개 이상으로 하기\n",
    "vect = CountVectorizer(ngram_range=(2,2)).fit(corpus)\n",
    "vect.vocabulary_"
   ]
  },
  {
   "cell_type": "code",
   "execution_count": 21,
   "metadata": {},
   "outputs": [
    {
     "data": {
      "text/plain": [
       "{'is': 5,\n",
       " 'this': 20,\n",
       " 'the': 13,\n",
       " 'first': 3,\n",
       " 'document': 2,\n",
       " 'is this': 7,\n",
       " 'this the': 22,\n",
       " 'the first': 14,\n",
       " 'first document': 4,\n",
       " 'and': 0,\n",
       " 'third': 18,\n",
       " 'one': 10,\n",
       " 'and the': 1,\n",
       " 'the third': 17,\n",
       " 'third one': 19,\n",
       " 'this is': 21,\n",
       " 'is the': 6,\n",
       " 'last': 8,\n",
       " 'the last': 15,\n",
       " 'last document': 9,\n",
       " 'second': 11,\n",
       " 'the second': 16,\n",
       " 'second document': 12}"
      ]
     },
     "execution_count": 21,
     "metadata": {},
     "output_type": "execute_result"
    }
   ],
   "source": [
    "# 토큰 ngram  단어의 기준을 1개 이상으로 하기\n",
    "vect = CountVectorizer(ngram_range=(1,2)).fit(corpus)\n",
    "vect.vocabulary_"
   ]
  },
  {
   "cell_type": "code",
   "execution_count": 22,
   "metadata": {},
   "outputs": [
    {
     "data": {
      "text/plain": [
       "{'is': 2, 'this': 3, 'first': 1, 'document': 0}"
      ]
     },
     "execution_count": 22,
     "metadata": {},
     "output_type": "execute_result"
    }
   ],
   "source": [
    "# 일정 빈도수 이상, 혹은 이하의 것을 stop words 로 삼는것\n",
    "vect = CountVectorizer(max_df = 4, min_df = 2).fit(corpus)\n",
    "vect.vocabulary_"
   ]
  },
  {
   "cell_type": "markdown",
   "metadata": {},
   "source": [
    "### TF-IDF 인코딩\n",
    "- 가중치를 곱하는 방식"
   ]
  },
  {
   "cell_type": "code",
   "execution_count": 23,
   "metadata": {},
   "outputs": [
    {
     "data": {
      "text/plain": [
       "array([[0.        , 0.38947624, 0.55775063, 0.4629834 , 0.        ,\n",
       "        0.        , 0.        , 0.32941651, 0.        , 0.4629834 ],\n",
       "       [0.55666851, 0.        , 0.        , 0.        , 0.        ,\n",
       "        0.55666851, 0.        , 0.26525553, 0.55666851, 0.        ],\n",
       "       [0.        , 0.38947624, 0.55775063, 0.4629834 , 0.        ,\n",
       "        0.        , 0.        , 0.32941651, 0.        , 0.4629834 ],\n",
       "       [0.        , 0.45333103, 0.        , 0.        , 0.80465933,\n",
       "        0.        , 0.        , 0.38342448, 0.        , 0.        ],\n",
       "       [0.        , 0.36055905, 0.        , 0.42860858, 0.        ,\n",
       "        0.        , 0.63998972, 0.30495853, 0.        , 0.42860858]])"
      ]
     },
     "execution_count": 23,
     "metadata": {},
     "output_type": "execute_result"
    }
   ],
   "source": [
    "from sklearn.feature_extraction.text import TfidfVectorizer\n",
    "\n",
    "tfidv = TfidfVectorizer().fit(corpus)\n",
    "tfidv.transform(corpus).toarray()"
   ]
  },
  {
   "cell_type": "markdown",
   "metadata": {},
   "source": [
    "### 해시 트릭\n",
    "- 메모리상에서 수행하기 때문에 단어장이 커지면 메모리 소모가 커짐\n",
    "- 속도가 매우 느려짐 \n",
    "- 해시 함수를 사용\n",
    "- 단어 충돌이 있을 수도 있다."
   ]
  },
  {
   "cell_type": "code",
   "execution_count": 24,
   "metadata": {},
   "outputs": [
    {
     "name": "stdout",
     "output_type": "stream",
     "text": [
      "WARNING: pip is being invoked by an old script wrapper. This will fail in a future version of pip.\n",
      "Please see https://github.com/pypa/pip/issues/5599 for advice on fixing the underlying issue.\n",
      "To avoid this problem you can invoke Python with '-m pip' instead of running pip directly.\n",
      "Defaulting to user installation because normal site-packages is not writeable\n",
      "Collecting gensim\n",
      "  Downloading gensim-3.8.3-cp36-cp36m-manylinux1_x86_64.whl (24.2 MB)\n",
      "\u001b[K     |████████████████████████████████| 24.2 MB 26.9 MB/s eta 0:00:01\n",
      "\u001b[?25hRequirement already satisfied: six>=1.5.0 in /home/daehan/.local/lib/python3.6/site-packages (from gensim) (1.15.0)\n",
      "Requirement already satisfied: scipy>=0.18.1 in /home/daehan/.local/lib/python3.6/site-packages (from gensim) (1.5.4)\n",
      "Collecting smart-open>=1.8.1\n",
      "  Downloading smart_open-4.0.1.tar.gz (117 kB)\n",
      "\u001b[K     |████████████████████████████████| 117 kB 68.8 MB/s eta 0:00:01\n",
      "\u001b[?25hRequirement already satisfied: numpy>=1.11.3 in /home/daehan/.local/lib/python3.6/site-packages (from gensim) (1.19.4)\n",
      "Building wheels for collected packages: smart-open\n",
      "  Building wheel for smart-open (setup.py) ... \u001b[?25ldone\n",
      "\u001b[?25h  Created wheel for smart-open: filename=smart_open-4.0.1-py3-none-any.whl size=115166 sha256=0d7669c8ebbaed3e798bd3e5595baa0b8e0ebeb285c43324d9aaed2f3835fd35\n",
      "  Stored in directory: /home/daehan/.cache/pip/wheels/8b/5e/70/42adcaea93c80417ec6accf7db1d6d02367ed02f2254cd5eef\n",
      "Successfully built smart-open\n",
      "Installing collected packages: smart-open, gensim\n",
      "Successfully installed gensim-3.8.3 smart-open-4.0.1\n"
     ]
    }
   ],
   "source": [
    "!pip3 install gensim"
   ]
  },
  {
   "cell_type": "code",
   "execution_count": 25,
   "metadata": {},
   "outputs": [
    {
     "data": {
      "text/plain": [
       "[['Is', 'this', 'the', 'first', 'document?'],\n",
       " ['And', 'the', 'third', 'one.'],\n",
       " ['This', 'is', 'the', 'first', 'document.'],\n",
       " ['The', 'last', 'document?'],\n",
       " ['This', 'is', 'the', 'second', 'document.']]"
      ]
     },
     "execution_count": 25,
     "metadata": {},
     "output_type": "execute_result"
    }
   ],
   "source": [
    "token_list = [[text for text in doc.split()] for doc in corpus]\n",
    "token_list"
   ]
  },
  {
   "cell_type": "code",
   "execution_count": 26,
   "metadata": {},
   "outputs": [
    {
     "data": {
      "text/plain": [
       "{'Is': 0,\n",
       " 'document?': 1,\n",
       " 'first': 2,\n",
       " 'the': 3,\n",
       " 'this': 4,\n",
       " 'And': 5,\n",
       " 'one.': 6,\n",
       " 'third': 7,\n",
       " 'This': 8,\n",
       " 'document.': 9,\n",
       " 'is': 10,\n",
       " 'The': 11,\n",
       " 'last': 12,\n",
       " 'second': 13}"
      ]
     },
     "execution_count": 26,
     "metadata": {},
     "output_type": "execute_result"
    }
   ],
   "source": [
    "from gensim.corpora import Dictionary\n",
    "\n",
    "dictionary = Dictionary(token_list)\n",
    "dictionary.token2id"
   ]
  },
  {
   "cell_type": "code",
   "execution_count": 27,
   "metadata": {},
   "outputs": [
    {
     "data": {
      "text/plain": [
       "[[(0, 1), (1, 1), (2, 1), (3, 1), (4, 1)],\n",
       " [(3, 1), (5, 1), (6, 1), (7, 1)],\n",
       " [(2, 1), (3, 1), (8, 1), (9, 1), (10, 1)],\n",
       " [(1, 1), (11, 1), (12, 1)],\n",
       " [(3, 1), (8, 1), (9, 1), (10, 1), (13, 1)]]"
      ]
     },
     "execution_count": 27,
     "metadata": {},
     "output_type": "execute_result"
    }
   ],
   "source": [
    "term_matrix = [dictionary.doc2bow(token) for token in token_list]\n",
    "term_matrix"
   ]
  },
  {
   "cell_type": "code",
   "execution_count": 28,
   "metadata": {},
   "outputs": [
    {
     "name": "stdout",
     "output_type": "stream",
     "text": [
      "doc:\n",
      "0 0.6122789185961829\n",
      "1 0.3485847413542797\n",
      "2 0.3485847413542797\n",
      "3 0.08489056411237639\n",
      "4 0.6122789185961829\n",
      "doc:\n",
      "3 0.07979258234193365\n",
      "5 0.5755093812740171\n",
      "6 0.5755093812740171\n",
      "7 0.5755093812740171\n",
      "doc:\n",
      "2 0.49633406058198626\n",
      "3 0.12087183801361165\n",
      "8 0.49633406058198626\n",
      "9 0.49633406058198626\n",
      "10 0.49633406058198626\n",
      "doc:\n",
      "1 0.37344696513776354\n",
      "11 0.6559486886294514\n",
      "12 0.6559486886294514\n",
      "doc:\n",
      "3 0.09824442362969368\n",
      "8 0.4034194772828018\n",
      "9 0.4034194772828018\n",
      "10 0.4034194772828018\n",
      "13 0.7085945309359098\n"
     ]
    }
   ],
   "source": [
    "# TF-IDF 인코딩\n",
    "# 중요도만큼 스케일링이 된 모습\n",
    "from gensim.models import TfidfModel\n",
    "\n",
    "tfidf = TfidfModel(term_matrix)\n",
    "\n",
    "for doc in tfidf[term_matrix]:\n",
    "    print(\"doc:\")\n",
    "    for k, v in doc:\n",
    "        print(k,v)"
   ]
  },
  {
   "cell_type": "code",
   "execution_count": 52,
   "metadata": {},
   "outputs": [
    {
     "name": "stdout",
     "output_type": "stream",
     "text": [
      "WARNING: pip is being invoked by an old script wrapper. This will fail in a future version of pip.\n",
      "Please see https://github.com/pypa/pip/issues/5599 for advice on fixing the underlying issue.\n",
      "To avoid this problem you can invoke Python with '-m pip' instead of running pip directly.\n",
      "Defaulting to user installation because normal site-packages is not writeable\n",
      "Collecting pyLDAvis\n",
      "  Downloading pyLDAvis-2.1.2.tar.gz (1.6 MB)\n",
      "\u001b[K     |████████████████████████████████| 1.6 MB 1.5 MB/s eta 0:00:01\n",
      "\u001b[?25hRequirement already satisfied: wheel>=0.23.0 in /usr/lib/python3/dist-packages (from pyLDAvis) (0.30.0)\n",
      "Requirement already satisfied: numpy>=1.9.2 in /home/daehan/.local/lib/python3.6/site-packages (from pyLDAvis) (1.19.4)\n",
      "Requirement already satisfied: scipy>=0.18.0 in /home/daehan/.local/lib/python3.6/site-packages (from pyLDAvis) (1.5.4)\n",
      "Collecting pandas>=0.17.0\n",
      "  Downloading pandas-1.1.4-cp36-cp36m-manylinux1_x86_64.whl (9.5 MB)\n",
      "\u001b[K     |████████████████████████████████| 9.5 MB 8.9 MB/s eta 0:00:01\n",
      "\u001b[?25hRequirement already satisfied: joblib>=0.8.4 in /home/daehan/.local/lib/python3.6/site-packages (from pyLDAvis) (0.17.0)\n",
      "Requirement already satisfied: jinja2>=2.7.2 in /home/daehan/.local/lib/python3.6/site-packages (from pyLDAvis) (2.11.2)\n",
      "Collecting numexpr\n",
      "  Downloading numexpr-2.7.1-cp36-cp36m-manylinux1_x86_64.whl (162 kB)\n",
      "\u001b[K     |████████████████████████████████| 162 kB 30.8 MB/s eta 0:00:01\n",
      "\u001b[?25hCollecting pytest\n",
      "  Downloading pytest-6.1.2-py3-none-any.whl (272 kB)\n",
      "\u001b[K     |████████████████████████████████| 272 kB 30.6 MB/s eta 0:00:01\n",
      "\u001b[?25hCollecting future\n",
      "  Downloading future-0.18.2.tar.gz (829 kB)\n",
      "\u001b[K     |████████████████████████████████| 829 kB 23.9 MB/s eta 0:00:01\n",
      "\u001b[?25hCollecting funcy\n",
      "  Downloading funcy-1.15-py2.py3-none-any.whl (32 kB)\n",
      "Requirement already satisfied: python-dateutil>=2.7.3 in /home/daehan/.local/lib/python3.6/site-packages (from pandas>=0.17.0->pyLDAvis) (2.8.1)\n",
      "Collecting pytz>=2017.2\n",
      "  Downloading pytz-2020.4-py2.py3-none-any.whl (509 kB)\n",
      "\u001b[K     |████████████████████████████████| 509 kB 29.9 MB/s eta 0:00:01\n",
      "\u001b[?25hRequirement already satisfied: MarkupSafe>=0.23 in /home/daehan/.local/lib/python3.6/site-packages (from jinja2>=2.7.2->pyLDAvis) (1.1.1)\n",
      "Requirement already satisfied: packaging in /home/daehan/.local/lib/python3.6/site-packages (from pytest->pyLDAvis) (20.5)\n",
      "Requirement already satisfied: attrs>=17.4.0 in /home/daehan/.local/lib/python3.6/site-packages (from pytest->pyLDAvis) (20.3.0)\n",
      "Collecting toml\n",
      "  Downloading toml-0.10.2-py2.py3-none-any.whl (16 kB)\n",
      "Collecting py>=1.8.2\n",
      "  Downloading py-1.9.0-py2.py3-none-any.whl (99 kB)\n",
      "\u001b[K     |████████████████████████████████| 99 kB 8.9 MB/s  eta 0:00:01\n",
      "\u001b[?25hCollecting pluggy<1.0,>=0.12\n",
      "  Downloading pluggy-0.13.1-py2.py3-none-any.whl (18 kB)\n",
      "Requirement already satisfied: importlib-metadata>=0.12; python_version < \"3.8\" in /home/daehan/.local/lib/python3.6/site-packages (from pytest->pyLDAvis) (3.1.0)\n",
      "Collecting iniconfig\n",
      "  Downloading iniconfig-1.1.1-py2.py3-none-any.whl (5.0 kB)\n",
      "Requirement already satisfied: six>=1.5 in /home/daehan/.local/lib/python3.6/site-packages (from python-dateutil>=2.7.3->pandas>=0.17.0->pyLDAvis) (1.15.0)\n",
      "Requirement already satisfied: pyparsing>=2.0.2 in /home/daehan/.local/lib/python3.6/site-packages (from packaging->pytest->pyLDAvis) (2.4.7)\n",
      "Requirement already satisfied: zipp>=0.5 in /home/daehan/.local/lib/python3.6/site-packages (from importlib-metadata>=0.12; python_version < \"3.8\"->pytest->pyLDAvis) (3.4.0)\n",
      "Building wheels for collected packages: pyLDAvis, future\n",
      "  Building wheel for pyLDAvis (setup.py) ... \u001b[?25ldone\n",
      "\u001b[?25h  Created wheel for pyLDAvis: filename=pyLDAvis-2.1.2-py2.py3-none-any.whl size=100203 sha256=916587f94a0cf9747430569769731c9495030607bd5702aef387fc1e871935d5\n",
      "  Stored in directory: /home/daehan/.cache/pip/wheels/57/de/11/0a038be70c2c212ce45fa0f4f9da165bb5dd87de1288394dc3\n",
      "  Building wheel for future (setup.py) ... \u001b[?25ldone\n",
      "\u001b[?25h  Created wheel for future: filename=future-0.18.2-py3-none-any.whl size=493275 sha256=1e978934787451a9fa561abaaf2d5b7671a1d5ce4475363ee2ab6a1a7efcd161\n",
      "  Stored in directory: /home/daehan/.cache/pip/wheels/6e/9c/ed/4499c9865ac1002697793e0ae05ba6be33553d098f3347fb94\n",
      "Successfully built pyLDAvis future\n",
      "Installing collected packages: pytz, pandas, numexpr, toml, py, pluggy, iniconfig, pytest, future, funcy, pyLDAvis\n",
      "\u001b[33m  WARNING: The scripts py.test and pytest are installed in '/home/daehan/.local/bin' which is not on PATH.\n",
      "  Consider adding this directory to PATH or, if you prefer to suppress this warning, use --no-warn-script-location.\u001b[0m\n",
      "\u001b[33m  WARNING: The scripts futurize and pasteurize are installed in '/home/daehan/.local/bin' which is not on PATH.\n",
      "  Consider adding this directory to PATH or, if you prefer to suppress this warning, use --no-warn-script-location.\u001b[0m\n",
      "Successfully installed funcy-1.15 future-0.18.2 iniconfig-1.1.1 numexpr-2.7.1 pandas-1.1.4 pluggy-0.13.1 py-1.9.0 pyLDAvis-2.1.2 pytest-6.1.2 pytz-2020.4 toml-0.10.2\n"
     ]
    }
   ],
   "source": [
    "!pip3 install pyLDAvis"
   ]
  },
  {
   "cell_type": "markdown",
   "metadata": {},
   "source": [
    "### 토픽 모델링\n",
    "- 토픽 \n",
    "    -문서를 구성하는 단어의 비율\n",
    "    - 문서 집합의 추상적인 주체"
   ]
  },
  {
   "cell_type": "code",
   "execution_count": 55,
   "metadata": {},
   "outputs": [],
   "source": [
    "from sklearn.datasets import fetch_20newsgroups\n",
    "# 텍스트 데이터 다운로드\n",
    "newsgroups = fetch_20newsgroups(\n",
    "    categories = [\"comp.graphics\",\"rec.sport.baseball\",\"sci.med\"])"
   ]
  },
  {
   "cell_type": "code",
   "execution_count": 56,
   "metadata": {},
   "outputs": [],
   "source": [
    "# 명사 추출\n",
    "import nltk\n",
    "from nltk.tag import pos_tag\n",
    "from nltk.tokenize import word_tokenize\n",
    "\n",
    "tagged_list = [pos_tag(word_tokenize(doc)) for doc in newsgroups.data]\n",
    "nouns_list = [[t[0] for t in doc if t[1].startswith(\"N\")] for doc in tagged_list]"
   ]
  },
  {
   "cell_type": "code",
   "execution_count": 57,
   "metadata": {},
   "outputs": [],
   "source": [
    "# 표제어 추출\n",
    "from nltk.stem import WordNetLemmatizer\n",
    "lm = WordNetLemmatizer()\n",
    "nouns_list = [[lm.lemmatize(w, pos=\"n\") for w in doc]for doc in nouns_list]"
   ]
  },
  {
   "cell_type": "code",
   "execution_count": 58,
   "metadata": {},
   "outputs": [],
   "source": [
    "# 불용어 제거\n",
    "import re\n",
    "\n",
    "token_list = [[text.lower() for text in doc] for doc in nouns_list]\n",
    "token_list = [[re.sub(r\"[^A-Za-z]_\", '', word) for word in doc ] for doc in token_list]"
   ]
  },
  {
   "cell_type": "code",
   "execution_count": 59,
   "metadata": {},
   "outputs": [
    {
     "name": "stderr",
     "output_type": "stream",
     "text": [
      "[nltk_data] Downloading package stopwords to /home/daehan/nltk_data...\n",
      "[nltk_data]   Package stopwords is already up-to-date!\n"
     ]
    }
   ],
   "source": [
    "from nltk.corpus import stopwords\n",
    "nltk.download('stopwords')\n",
    "stop_words = stopwords.words('english')\n",
    "stop_words += [\"\", \"subject\", \"article\", \"line\", \"year\", \"month\", \"address\"]\n",
    "\n",
    "token_list =[[word for word in doc if (word not in stop_words)and (2< len(word)<10)]for doc in token_list]"
   ]
  },
  {
   "cell_type": "code",
   "execution_count": 60,
   "metadata": {},
   "outputs": [],
   "source": [
    "from gensim import corpora\n",
    "\n",
    "dictionary = corpora.Dictionary(token_list)\n",
    "doc_term_matrix = [dictionary.doc2bow(tokens) for tokens in token_list]"
   ]
  },
  {
   "cell_type": "code",
   "execution_count": 61,
   "metadata": {},
   "outputs": [],
   "source": [
    "from gensim.models.ldamodel import LdaModel\n",
    "\n",
    "model = LdaModel(corpus = doc_term_matrix, id2word=dictionary, num_topics=3, )"
   ]
  },
  {
   "cell_type": "code",
   "execution_count": 51,
   "metadata": {},
   "outputs": [
    {
     "data": {
      "text/plain": [
       "[(0,\n",
       "  '0.014*\"lines\" + 0.008*\"image\" + 0.005*\"time\" + 0.005*\"banks\" + 0.004*\"file\" + 0.004*\"geb\" + 0.004*\"computer\" + 0.004*\"people\" + 0.004*\"game\" + 0.004*\"problem\"'),\n",
       " (1,\n",
       "  '0.011*\"lines\" + 0.006*\"image\" + 0.006*\"game\" + 0.005*\"time\" + 0.004*\"file\" + 0.004*\"team\" + 0.004*\"problem\" + 0.004*\"run\" + 0.004*\"program\" + 0.004*\"anyone\"'),\n",
       " (2,\n",
       "  '0.010*\"lines\" + 0.005*\"time\" + 0.004*\"science\" + 0.004*\"number\" + 0.004*\"food\" + 0.004*\"anyone\" + 0.004*\"msg\" + 0.003*\"point\" + 0.003*\"research\" + 0.003*\"center\"')]"
      ]
     },
     "execution_count": 51,
     "metadata": {},
     "output_type": "execute_result"
    }
   ],
   "source": [
    "model.print_topics()\n"
   ]
  },
  {
   "cell_type": "code",
   "execution_count": 62,
   "metadata": {},
   "outputs": [
    {
     "data": {
      "text/html": [
       "\n",
       "<link rel=\"stylesheet\" type=\"text/css\" href=\"https://cdn.rawgit.com/bmabey/pyLDAvis/files/ldavis.v1.0.0.css\">\n",
       "\n",
       "\n",
       "<div id=\"ldavis_el171721396723970240167266697538\"></div>\n",
       "<script type=\"text/javascript\">\n",
       "\n",
       "var ldavis_el171721396723970240167266697538_data = {\"mdsDat\": {\"x\": [0.022965849640397634, 0.002798964079614964, -0.0257648137200126], \"y\": [0.015491600107494815, -0.026429135356257648, 0.010937535248762837], \"topics\": [1, 2, 3], \"cluster\": [1, 1, 1], \"Freq\": [35.78952879894529, 34.816290950957445, 29.394180250097264]}, \"tinfo\": {\"Term\": [\"banks\", \"geb\", \"point\", \"food\", \"gordon\", \"msg\", \"computer\", \"time\", \"lost\", \"team\", \"thanks\", \"col\", \"disease\", \"chastity\", \"n3jxp\", \"intellect\", \"image\", \"anyone\", \"lines\", \"pittsburg\", \"georgia\", \"group\", \"doctor\", \"reds\", \"science\", \"bolson\", \"needle\", \"candida\", \"medicine\", \"order\", \"holler\", \"jr0930\", \"barman\", \"asd.com\", \"bohnert\", \"fath\", \"ilmenau\", \"mckay\", \"kaufman\", \"acsddc\", \"reiniger\", \"tiang\", \"bbenowit\", \"yogi\", \"wondering\", \"lame\", \"lundby\", \"pedis\", \"skinner\", \"holli\", \"jmcocker\", \"delino\", \"brenn\", \"benowitz\", \"erikb\", \"alird\", \"cavalier\", \"adamski\", \"lucas\", \"jewish\", \"bu.edu\", \"koufax\", \"chen\", \"food\", \"ozonoff\", \"vb30\", \"tdawson\", \"msg\", \"corn\", \"sandy\", \"ticket\", \"thanks\", \"eye\", \"anyone\", \"cancer\", \"group\", \"lines\", \"spot\", \"marc\", \"alice\", \"seizure\", \"baseball\", \"file\", \"object\", \"format\", \"gif\", \"version\", \"polygon\", \"reality\", \"question\", \"mike\", \"time\", \"world\", \"mail\", \"keywords\", \"anybody\", \"graphic\", \"center\", \"hall\", \"anything\", \"jpeg\", \"people\", \"week\", \"help\", \"package\", \"game\", \"software\", \"image\", \"steve\", \"way\", \"number\", \"program\", \"day\", \"research\", \"player\", \"system\", \"problem\", \"case\", \"science\", \"graeme\", \"julkunen\", \"bockamp\", \"seth\", \"hep\", \"rokne\", \"khun\", \"cirrhosis\", \"binkley\", \"capelli\", \"orin\", \"braun\", \"dv/x\", \"prolactin\", \"haber\", \"cormack\", \"antero\", \"dixie.com\", \"s_braun\", \"speculum\", \"tham\", \"myles\", \"kilmer\", \"maier\", \"balick\", \"qed\", \"altitude\", \"-val\", \"nieporent\", \"henrik\", \"georgia\", \"reprint\", \"gordon\", \"chastity\", \"banks\", \"n3jxp\", \"intellect\", \"geb\", \"chop\", \"covington\", \"vida\", \"computer\", \"sepinwall\", \"programs\", \"lyme\", \"alomar\", \"image\", \"science\", \"disease\", \"team\", \"baerga\", \"demers\", \"lot\", \"lines\", \"analysis\", \"city\", \"physician\", \"color\", \"problem\", \"system\", \"patient\", \"software\", \"program\", \"thing\", \"health\", \"people\", \"univ\", \"braves\", \"data\", \"run\", \"david\", \"game\", \"number\", \"file\", \"steve\", \"research\", \"point\", \"way\", \"time\", \"anyone\", \"snf\", \"phi\", \"stl\", \"nym\", \"flo\", \"pit\", \"col\", \"cin\", \"atl\", \"compass1\", \"euclid\", \"pittsburg\", \"compass2\", \"compass7\", \"compass5\", \"compass4\", \"compass8\", \"ctds\", \"bytor\", \"lost\", \"compass6\", \"op_rows\", \"bolson\", \"compass3\", \"hou\", \"ccw\", \"oxalate\", \"magnesium\", \"fopen\", \"chert\", \"snd\", \"needle\", \"int\", \"gram\", \"coplanar\", \"row\", \"point\", \"suck\", \"reds\", \"cub\", \"time\", \"order\", \"candida\", \"los\", \"gilbert\", \"intake\", \"medicine\", \"game\", \"doctor\", \"day\", \"evidence\", \"course\", \"giants\", \"new\", \"player\", \"way\", \"data\", \"dave\", \"number\", \"team\", \"value\", \"problem\", \"fan\", \"lines\", \"program\", \"file\", \"image\", \"case\", \"people\", \"thing\", \"lot\", \"david\", \"something\", \"run\", \"patient\", \"world\", \"season\", \"system\", \"graphic\", \"anyone\"], \"Freq\": [246.0, 219.0, 354.0, 275.0, 189.0, 276.0, 367.0, 590.0, 55.0, 385.0, 307.0, 31.0, 225.0, 71.0, 71.0, 72.0, 668.0, 392.0, 1457.0, 24.0, 46.0, 212.0, 210.0, 58.0, 334.0, 23.0, 30.0, 84.0, 128.0, 92.0, 6.547568511586601, 5.6021086880367825, 10.347272859953625, 11.931396582255609, 4.657804386447488, 3.85615440582026, 3.851151234715614, 3.8483328333323032, 4.611266046291741, 3.835807466167147, 3.8317024243448414, 6.872159732937843, 5.335112711637943, 10.584284042627834, 10.53401980620083, 9.760991116302892, 6.691510118891498, 2.9733666313646623, 2.969597782488389, 2.9695832496521053, 3.7138123793623365, 3.696938141677224, 2.9534395292041933, 3.6837539526005343, 2.9393639928354283, 2.939618478946354, 2.9367077133146617, 6.591655323737225, 6.5797086864080825, 17.35955561672481, 11.995616216938098, 15.400858696620402, 19.88669958379243, 190.44674025268785, 7.7863423091895205, 19.449832190639167, 13.542075348919239, 174.95118688664968, 26.450325264713076, 16.007172501804764, 12.871882946277182, 182.19620235909312, 54.417093218394754, 214.49662333838256, 82.17036153489413, 122.46333608168311, 630.1527515792912, 35.06400579594512, 27.748090751359314, 9.675259654401161, 39.88598020599692, 140.541791709235, 211.66355477079048, 61.357226579103155, 114.83837413743524, 74.49626439412255, 125.37404745745326, 65.25753497107287, 32.70879497067272, 118.5070975848472, 54.58203638888937, 222.0887320299753, 121.92861038212905, 56.059678342691655, 81.80704321141373, 50.97876108525376, 101.47331131806838, 102.51706091178066, 49.05056245242268, 81.57827440757588, 94.03894784463486, 152.81929715319563, 91.29305045859236, 85.28109641023654, 84.30666004884829, 163.65052573357363, 108.40852030794, 191.4657594803719, 93.27175877130767, 116.23825960398453, 110.68480943544135, 120.39080119430405, 105.32680460008912, 96.84318326503983, 99.18140681945602, 103.59244429170792, 109.26341795480734, 92.41553831338659, 93.51272740677793, 12.55143531423191, 5.547801387371448, 4.623843811424639, 12.203945958540237, 4.573818873611881, 3.7962119426865892, 3.789378121917112, 6.812249873282597, 3.7762046694214813, 5.230424261327261, 8.140929739695684, 3.685314413349756, 5.889021799534517, 5.14894150475541, 2.938596025565946, 2.925693387409378, 2.9217090864256283, 2.9156723143547607, 3.642122353797174, 5.814874592849873, 2.9047938720062905, 2.896818986643454, 4.337032890341102, 2.8889182453456046, 2.8798802094915987, 2.8812531313729255, 7.878663331650737, 3.5799852289613514, 4.289251438833732, 4.997088804606279, 36.67791783103105, 5.700368509570495, 137.72901982998482, 52.18172834263511, 167.0120649817447, 51.727081962851244, 52.2320709060822, 146.86285484266986, 10.228714136952377, 13.386501067994205, 11.936011927900523, 218.88628898326024, 12.492288457237384, 11.260637409971363, 30.81169972985677, 62.47082339542637, 324.0038737502665, 173.5709645849668, 121.91006436853036, 195.50837877003937, 37.171106557817474, 17.840313688217694, 146.65599541471434, 546.5414688979497, 52.677744597323574, 52.12690697499118, 40.22280338529548, 111.39301778631338, 169.0731392937596, 140.77492839367758, 102.11940990101627, 122.75431141956037, 161.40695463051503, 133.58766914980245, 94.71268422477972, 162.05834668511858, 67.84589612997812, 66.82027510248302, 107.01427540354966, 102.17852408435505, 109.89508649806056, 158.78548188182162, 111.3964158465121, 134.31711605465128, 89.43392840068326, 95.27033807437464, 110.34347964280418, 105.35708769042111, 131.99359688616383, 100.57881184506114, 9.979860204315102, 11.57124670734618, 9.05972945844964, 8.242767465599968, 8.219395350624806, 9.769662888293068, 28.179492403715322, 9.42279774266412, 11.725013134480886, 4.533299620605822, 6.033942393930115, 20.970093045245477, 4.465094613695119, 4.452286049618781, 4.446585721381784, 4.440093113565246, 4.425645615601401, 2.9455294348788827, 2.895907057718112, 45.57753607006841, 4.304866346882888, 3.575786116326795, 19.296874963117784, 4.277328862467782, 9.259819971291622, 2.8377680066305, 5.671247571265012, 5.64875022631105, 2.8201325581254766, 4.203078181483939, 8.22209711152109, 22.49974062492462, 21.30577980768053, 9.438522383639512, 6.768729053302491, 20.474972152275775, 183.121048132649, 12.606330403468759, 36.34249824329492, 25.873426750640903, 236.3502681326824, 49.032717447292804, 44.540654029269135, 34.43036450077423, 16.074484264682503, 8.498824162333179, 62.2843894080875, 184.46932920353, 89.98863289275317, 120.80483810300197, 52.09643473090623, 76.12017220763502, 26.392839619845173, 90.0968264011606, 103.96620376462722, 116.90178296268549, 94.10767612504767, 54.517097909183676, 108.44645221727055, 119.58045290112727, 43.40393892611102, 120.12860109022746, 70.17562345869129, 280.3842366925948, 115.859027390246, 124.56734438431488, 153.34871039172535, 81.3611788118872, 110.70255890035313, 90.92367027148445, 89.1279143623482, 84.52025610702941, 76.53190507806227, 78.21313560797662, 72.34364414269545, 79.73956632567362, 69.10998063470863, 80.69022118737891, 71.18875674005508, 77.48113399566992], \"Total\": [246.0, 219.0, 354.0, 275.0, 189.0, 276.0, 367.0, 590.0, 55.0, 385.0, 307.0, 31.0, 225.0, 71.0, 71.0, 72.0, 668.0, 392.0, 1457.0, 24.0, 46.0, 212.0, 210.0, 58.0, 334.0, 23.0, 30.0, 84.0, 128.0, 92.0, 7.154940415610298, 6.255758187865843, 11.617067332095317, 13.40466140013854, 5.364656413943465, 4.467145093636203, 4.4667870873287505, 4.467158872790021, 5.361900957534217, 4.466355062591457, 4.468200471476449, 8.042609310317609, 6.254073641110707, 12.510704650723483, 12.500793426212427, 11.598300241820954, 8.039976062621319, 3.5765503906109704, 3.5731500270702212, 3.5736956875892325, 4.469595409565843, 4.468742302725963, 3.5747127323393717, 4.468453586970988, 3.573141387965641, 3.5745645392166243, 3.5735927800833913, 8.038488145612465, 8.036074034220468, 21.41525162715925, 15.174279526447613, 19.641423751982778, 25.871490399892192, 275.7403690651585, 9.822228984977581, 25.862796780587598, 17.845762271358016, 276.30565112372085, 36.55364637430469, 21.40809302619994, 16.96078045776786, 307.3047823337406, 82.04694589122721, 392.5565691791136, 135.3651279647443, 212.82059838088932, 1457.0784571698357, 54.37370523970426, 41.899959380389674, 12.50653112015948, 64.99141351387149, 289.19680764248136, 470.5480152097566, 111.32675303024462, 238.40082261037603, 141.46877110152718, 274.7852896886674, 123.75953884551417, 52.57748427991775, 264.0608837058869, 99.74709251613407, 590.4325970488214, 278.26715419985544, 104.9921402315097, 172.57649494105317, 93.45915406628299, 231.217220227039, 234.72260439612643, 89.09700112370686, 177.81793726536148, 216.06814457712198, 425.58020273866737, 208.96849496316403, 194.70051573533448, 192.13719823601838, 506.9053368189253, 279.84578970215654, 668.8183436223638, 229.38323726022853, 338.49713025709116, 330.52767749922396, 397.6567832150651, 307.4128555994434, 260.2163525653118, 283.49601071543907, 325.0575938727644, 398.46515833879437, 254.08673325118957, 334.62122550443917, 13.267189761975672, 6.193498804864495, 5.308212725270868, 14.149974924122432, 5.310968888612071, 4.426199349867431, 4.420535972011617, 7.9731743813721545, 4.424844147243081, 6.200512088070395, 9.735853048865726, 4.428992179821465, 7.083393225404476, 6.199246114085501, 3.543632864148602, 3.543671399086897, 3.5423381832132876, 3.5423369447354833, 4.4271381420249964, 7.08036143648709, 3.541971980153276, 3.5438783760855777, 5.311397193661303, 3.5423451463618654, 3.5414828108917664, 3.5432719559065466, 9.743111841831697, 4.428412625497194, 5.315355182983698, 6.196683140805421, 46.04149066937824, 7.084626142341468, 189.66501773832513, 71.78280642089162, 246.57523106355416, 71.80523546709463, 72.69440101235556, 219.89867151463923, 13.292463094154726, 17.72957055982002, 15.938727243891545, 367.16942006434044, 16.83843057218811, 15.051070488473373, 46.109884223384704, 102.81502957577013, 668.8183436223638, 334.62122550443917, 225.39475670431926, 385.678571494813, 59.35801932041763, 25.67043592647255, 307.86886530604943, 1457.0784571698357, 94.0311313951483, 93.0992914591306, 69.16787893327208, 236.09491164738094, 398.46515833879437, 325.0575938727644, 219.87203651147763, 279.84578970215654, 397.6567832150651, 316.8521802479823, 208.5827518765098, 425.58020273866737, 136.78588441828998, 134.8769263799404, 261.80776365500293, 253.84266566138376, 283.25094082858595, 506.9053368189253, 330.52767749922396, 470.5480152097566, 229.38323726022853, 260.2163525653118, 354.8545766038274, 338.49713025709116, 590.4325970488214, 392.5565691791136, 10.654566267516577, 12.430905512672219, 9.760741197857977, 8.88486830267063, 8.880120405564698, 10.651833620835118, 31.067856928268007, 10.656935613209217, 13.321832275045832, 5.331264230645992, 7.104083710353141, 24.875784291967825, 5.330725640291248, 5.326578983930108, 5.328195996401383, 5.327328911473856, 5.327803029409109, 3.553908992152511, 3.554227907169862, 55.963572453615996, 5.326259452613864, 4.438499167681622, 23.95271573673603, 5.3186818320452485, 11.547506280609914, 3.5539022821514723, 7.108417785036268, 7.1062114294258265, 3.5529299383515105, 5.326851607219098, 10.649317427465444, 30.216617175679982, 29.293913416307678, 12.435721743716087, 8.87418625220913, 30.181604704552385, 354.8545766038274, 17.722470073159123, 58.60577374950621, 40.81639711262643, 590.4325970488214, 92.38900638697893, 84.30383894007726, 62.205640088628066, 24.896842507683303, 11.553279814339046, 128.77926148849758, 506.9053368189253, 210.41438495044886, 307.4128555994434, 107.53869614919554, 175.96894181995094, 46.21108077087664, 232.05237329376905, 283.49601071543907, 338.49713025709116, 261.80776365500293, 122.55097155483158, 330.52767749922396, 385.678571494813, 89.67661983313997, 398.46515833879437, 181.14657424050202, 1457.0784571698357, 397.6567832150651, 470.5480152097566, 668.8183436223638, 254.08673325118957, 425.58020273866737, 316.8521802479823, 307.86886530604943, 283.25094082858595, 240.59545077388572, 253.84266566138376, 219.87203651147763, 278.26715419985544, 207.07361491607463, 325.0575938727644, 231.217220227039, 392.5565691791136], \"Category\": [\"Default\", \"Default\", \"Default\", \"Default\", \"Default\", \"Default\", \"Default\", \"Default\", \"Default\", \"Default\", \"Default\", \"Default\", \"Default\", \"Default\", \"Default\", \"Default\", \"Default\", \"Default\", \"Default\", \"Default\", \"Default\", \"Default\", \"Default\", \"Default\", \"Default\", \"Default\", \"Default\", \"Default\", \"Default\", \"Default\", \"Topic1\", \"Topic1\", \"Topic1\", \"Topic1\", \"Topic1\", \"Topic1\", \"Topic1\", \"Topic1\", \"Topic1\", \"Topic1\", \"Topic1\", \"Topic1\", \"Topic1\", \"Topic1\", \"Topic1\", \"Topic1\", \"Topic1\", \"Topic1\", \"Topic1\", \"Topic1\", \"Topic1\", \"Topic1\", \"Topic1\", \"Topic1\", \"Topic1\", \"Topic1\", \"Topic1\", \"Topic1\", \"Topic1\", \"Topic1\", \"Topic1\", \"Topic1\", \"Topic1\", \"Topic1\", \"Topic1\", \"Topic1\", \"Topic1\", \"Topic1\", \"Topic1\", \"Topic1\", \"Topic1\", \"Topic1\", \"Topic1\", \"Topic1\", \"Topic1\", \"Topic1\", \"Topic1\", \"Topic1\", \"Topic1\", \"Topic1\", \"Topic1\", \"Topic1\", \"Topic1\", \"Topic1\", \"Topic1\", \"Topic1\", \"Topic1\", \"Topic1\", \"Topic1\", \"Topic1\", \"Topic1\", \"Topic1\", \"Topic1\", \"Topic1\", \"Topic1\", \"Topic1\", \"Topic1\", \"Topic1\", \"Topic1\", \"Topic1\", \"Topic1\", \"Topic1\", \"Topic1\", \"Topic1\", \"Topic1\", \"Topic1\", \"Topic1\", \"Topic1\", \"Topic1\", \"Topic1\", \"Topic1\", \"Topic1\", \"Topic1\", \"Topic1\", \"Topic1\", \"Topic1\", \"Topic1\", \"Topic1\", \"Topic1\", \"Topic2\", \"Topic2\", \"Topic2\", \"Topic2\", \"Topic2\", \"Topic2\", \"Topic2\", \"Topic2\", \"Topic2\", \"Topic2\", \"Topic2\", \"Topic2\", \"Topic2\", \"Topic2\", \"Topic2\", \"Topic2\", \"Topic2\", \"Topic2\", \"Topic2\", \"Topic2\", \"Topic2\", \"Topic2\", \"Topic2\", \"Topic2\", \"Topic2\", \"Topic2\", \"Topic2\", \"Topic2\", \"Topic2\", \"Topic2\", \"Topic2\", \"Topic2\", \"Topic2\", \"Topic2\", \"Topic2\", \"Topic2\", \"Topic2\", \"Topic2\", \"Topic2\", \"Topic2\", \"Topic2\", \"Topic2\", \"Topic2\", \"Topic2\", \"Topic2\", \"Topic2\", \"Topic2\", \"Topic2\", \"Topic2\", \"Topic2\", \"Topic2\", \"Topic2\", \"Topic2\", \"Topic2\", \"Topic2\", \"Topic2\", \"Topic2\", \"Topic2\", \"Topic2\", \"Topic2\", \"Topic2\", \"Topic2\", \"Topic2\", \"Topic2\", \"Topic2\", \"Topic2\", \"Topic2\", \"Topic2\", \"Topic2\", \"Topic2\", \"Topic2\", \"Topic2\", \"Topic2\", \"Topic2\", \"Topic2\", \"Topic2\", \"Topic2\", \"Topic2\", \"Topic2\", \"Topic2\", \"Topic3\", \"Topic3\", \"Topic3\", \"Topic3\", \"Topic3\", \"Topic3\", \"Topic3\", \"Topic3\", \"Topic3\", \"Topic3\", \"Topic3\", \"Topic3\", \"Topic3\", \"Topic3\", \"Topic3\", \"Topic3\", \"Topic3\", \"Topic3\", \"Topic3\", \"Topic3\", \"Topic3\", \"Topic3\", \"Topic3\", \"Topic3\", \"Topic3\", \"Topic3\", \"Topic3\", \"Topic3\", \"Topic3\", \"Topic3\", \"Topic3\", \"Topic3\", \"Topic3\", \"Topic3\", \"Topic3\", \"Topic3\", \"Topic3\", \"Topic3\", \"Topic3\", \"Topic3\", \"Topic3\", \"Topic3\", \"Topic3\", \"Topic3\", \"Topic3\", \"Topic3\", \"Topic3\", \"Topic3\", \"Topic3\", \"Topic3\", \"Topic3\", \"Topic3\", \"Topic3\", \"Topic3\", \"Topic3\", \"Topic3\", \"Topic3\", \"Topic3\", \"Topic3\", \"Topic3\", \"Topic3\", \"Topic3\", \"Topic3\", \"Topic3\", \"Topic3\", \"Topic3\", \"Topic3\", \"Topic3\", \"Topic3\", \"Topic3\", \"Topic3\", \"Topic3\", \"Topic3\", \"Topic3\", \"Topic3\", \"Topic3\", \"Topic3\", \"Topic3\", \"Topic3\", \"Topic3\"], \"logprob\": [30.0, 29.0, 28.0, 27.0, 26.0, 25.0, 24.0, 23.0, 22.0, 21.0, 20.0, 19.0, 18.0, 17.0, 16.0, 15.0, 14.0, 13.0, 12.0, 11.0, 10.0, 9.0, 8.0, 7.0, 6.0, 5.0, 4.0, 3.0, 2.0, 1.0, -8.821599960327148, -8.977499961853027, -8.36400032043457, -8.221500396728516, -9.162099838256836, -9.35099983215332, -9.352299690246582, -9.352999687194824, -9.172200202941895, -9.356300354003906, -9.357399940490723, -8.773200035095215, -9.026399612426758, -8.341300010681152, -8.346099853515625, -8.422300338745117, -8.799799919128418, -9.611000061035156, -9.612299919128418, -9.612299919128418, -9.38860034942627, -9.393199920654297, -9.61769962310791, -9.39680004119873, -9.6225004196167, -9.622400283813477, -9.62339973449707, -8.814900398254395, -8.816699981689453, -7.846499919891357, -8.216099739074707, -7.966300010681152, -7.710599899291992, -5.451300144195557, -8.648300170898438, -7.732800006866455, -8.094900131225586, -5.536200046539307, -7.4253997802734375, -7.927599906921387, -8.145600318908691, -5.49560022354126, -6.703999996185303, -5.332399845123291, -6.291900157928467, -5.892899990081787, -4.254700183868408, -7.143499851226807, -7.377500057220459, -8.431099891662598, -7.014699935913086, -5.755199909210205, -5.345699787139893, -6.584000110626221, -5.957200050354004, -6.389900207519531, -5.8694000244140625, -6.522299766540527, -7.2129998207092285, -5.9257001876831055, -6.701000213623047, -5.297599792480469, -5.897200107574463, -6.674300193786621, -6.296299934387207, -6.7692999839782715, -6.080900192260742, -6.070700168609619, -6.807799816131592, -6.299099922180176, -6.1570000648498535, -5.67140007019043, -6.186600208282471, -6.254700183868408, -6.266200065612793, -5.603000164031982, -6.014800071716309, -5.446000099182129, -6.165200233459473, -5.945000171661377, -5.99399995803833, -5.909900188446045, -6.043600082397461, -6.127600193023682, -6.103700160980225, -6.060200214385986, -6.006899833679199, -6.1743998527526855, -6.162600040435791, -8.14330005645752, -8.959699630737305, -9.141900062561035, -8.17140007019043, -9.152799606323242, -9.339099884033203, -9.340900421142578, -8.754400253295898, -9.344400405883789, -9.018600463867188, -8.576199531555176, -9.368800163269043, -8.899999618530273, -9.034299850463867, -9.595199584960938, -9.599599838256836, -9.600899696350098, -9.602999687194824, -9.380499839782715, -8.912699699401855, -9.606800079345703, -9.60949993133545, -9.205900192260742, -9.612199783325195, -9.615400314331055, -9.614899635314941, -8.609000205993652, -9.39780044555664, -9.217000007629395, -9.064299583435059, -7.070899963378906, -8.932600021362305, -5.747799873352051, -6.718400001525879, -5.554999828338623, -6.727099895477295, -6.717400074005127, -5.683599948883057, -8.347900390625, -8.078900337219238, -8.193599700927734, -5.284599781036377, -8.14799976348877, -8.251799583435059, -7.245200157165527, -6.538400173187256, -4.892399787902832, -5.516499996185303, -5.869800090789795, -5.397500038146973, -7.057600021362305, -7.7916998863220215, -5.684999942779541, -4.369500160217285, -6.708899974822998, -6.719399929046631, -6.978700160980225, -5.960000038146973, -5.542799949645996, -5.72599983215332, -6.046999931335449, -5.8628997802734375, -5.589200019836426, -5.77839994430542, -6.122300148010254, -5.58519983291626, -6.455900192260742, -6.471099853515625, -6.000199794769287, -6.04640007019043, -5.973599910736084, -5.605599880218506, -5.960000038146973, -5.772900104522705, -6.179599761962891, -6.116399765014648, -5.9695000648498535, -6.0157999992370605, -5.79040002822876, -6.06220006942749, -8.203300476074219, -8.055299758911133, -8.300000190734863, -8.394499778747559, -8.397299766540527, -8.224499702453613, -7.165200233459473, -8.260700225830078, -8.042099952697754, -8.992400169372559, -8.706399917602539, -7.460700035095215, -9.007499694824219, -9.01039981842041, -9.011699676513672, -9.013099670410156, -9.016400337219238, -9.423500061035156, -9.440500259399414, -6.6844000816345215, -9.044099807739258, -9.229599952697754, -7.543900012969971, -9.05049991607666, -8.27810001373291, -9.460800170898438, -8.768400192260742, -8.77239990234375, -9.467000007629395, -9.067999839782715, -8.397000312805176, -7.3902997970581055, -7.444799900054932, -8.258999824523926, -8.591500282287598, -7.484600067138672, -5.293700218200684, -7.969600200653076, -6.910799980163574, -7.2505998611450195, -5.03849983215332, -6.611299991607666, -6.707399845123291, -6.964900016784668, -7.726600170135498, -8.363900184631348, -6.372099876403809, -5.286300182342529, -6.0040998458862305, -5.70959997177124, -6.5507001876831055, -6.171500205993652, -7.2307000160217285, -6.002900123596191, -5.859799861907959, -5.742499828338623, -5.959400177001953, -6.505300045013428, -5.817599773406982, -5.719799995422363, -6.73330020904541, -5.7153000831604, -6.252799987792969, -4.867700099945068, -5.751500129699707, -5.678999900817871, -5.471099853515625, -6.104899883270264, -5.796999931335449, -5.993800163269043, -6.013800144195557, -6.066800117492676, -6.166100025177002, -6.144400119781494, -6.222400188446045, -6.125100135803223, -6.268099784851074, -6.1132001876831055, -6.238500118255615, -6.153800010681152], \"loglift\": [30.0, 29.0, 28.0, 27.0, 26.0, 25.0, 24.0, 23.0, 22.0, 21.0, 20.0, 19.0, 18.0, 17.0, 16.0, 15.0, 14.0, 13.0, 12.0, 11.0, 10.0, 9.0, 8.0, 7.0, 6.0, 5.0, 4.0, 3.0, 2.0, 1.0, 0.9388, 0.9172, 0.9118, 0.9111, 0.8862, 0.8804, 0.8792, 0.8784, 0.8767, 0.8753, 0.8738, 0.8702, 0.8686, 0.8603, 0.8563, 0.8551, 0.8439, 0.8428, 0.8425, 0.8423, 0.8423, 0.8379, 0.8366, 0.8344, 0.8323, 0.832, 0.8312, 0.8291, 0.8276, 0.8176, 0.7925, 0.7843, 0.7644, 0.6574, 0.7952, 0.7425, 0.7516, 0.5705, 0.704, 0.7368, 0.7517, 0.5048, 0.6169, 0.4231, 0.5283, 0.4749, 0.1893, 0.5888, 0.6154, 0.7708, 0.5393, 0.3059, 0.2286, 0.4318, 0.2971, 0.3862, 0.2428, 0.3875, 0.5529, 0.2263, 0.4246, 0.0497, 0.2024, 0.4, 0.281, 0.4214, 0.204, 0.1991, 0.4306, 0.2483, 0.1956, 0.0033, 0.1994, 0.202, 0.2038, -0.1031, 0.0792, -0.2233, 0.1276, -0.0414, -0.0665, -0.1673, -0.0436, 0.0391, -0.0227, -0.116, -0.2663, 0.0161, -0.2474, 0.9996, 0.945, 0.9171, 0.9071, 0.9057, 0.9015, 0.901, 0.8977, 0.8966, 0.8849, 0.8762, 0.8713, 0.8704, 0.8694, 0.8679, 0.8635, 0.8625, 0.8604, 0.8599, 0.8582, 0.8568, 0.8535, 0.8524, 0.8512, 0.8483, 0.8483, 0.8427, 0.8424, 0.8406, 0.8399, 0.8277, 0.8377, 0.7351, 0.7362, 0.6655, 0.7271, 0.7245, 0.6514, 0.7931, 0.7741, 0.7659, 0.5378, 0.7565, 0.7649, 0.652, 0.5569, 0.3303, 0.3987, 0.4405, 0.3757, 0.587, 0.6912, 0.3135, 0.0745, 0.4757, 0.4751, 0.513, 0.3039, 0.1978, 0.2182, 0.2882, 0.231, 0.1534, 0.1914, 0.2656, 0.0896, 0.3539, 0.3527, 0.1604, 0.1451, 0.1083, -0.1057, -0.0325, -0.1986, 0.1132, 0.0503, -0.113, -0.1121, -0.443, -0.3067, 1.159, 1.1527, 1.1498, 1.1494, 1.1471, 1.1379, 1.1268, 1.1013, 1.0967, 1.0622, 1.0611, 1.0536, 1.0472, 1.0451, 1.0435, 1.0422, 1.0389, 1.0366, 1.0195, 1.0191, 1.0115, 1.0082, 1.0082, 1.0065, 1.0036, 0.9993, 0.9985, 0.9948, 0.9934, 0.9874, 0.9657, 0.9295, 0.906, 0.9486, 0.9535, 0.8363, 0.5628, 0.8837, 0.7465, 0.7685, 0.3088, 0.5909, 0.5863, 0.6329, 0.7869, 0.9173, 0.498, 0.2135, 0.375, 0.2904, 0.4996, 0.3864, 0.6642, 0.2783, 0.2212, 0.1612, 0.2012, 0.4144, 0.1099, 0.0534, 0.4987, 0.0253, 0.2761, -0.4237, -0.0088, -0.1047, -0.2484, 0.0856, -0.1222, -0.024, -0.0152, 0.015, 0.079, 0.0471, 0.1128, -0.0254, 0.127, -0.169, 0.0464, -0.3983]}, \"token.table\": {\"Topic\": [2, 1, 1, 3, 1, 2, 3, 1, 1, 2, 3, 1, 2, 3, 1, 2, 3, 2, 1, 2, 3, 1, 2, 3, 1, 2, 3, 1, 2, 3, 1, 2, 3, 1, 2, 3, 2, 1, 2, 3, 1, 2, 1, 2, 3, 1, 3, 1, 2, 2, 1, 1, 2, 3, 2, 1, 2, 3, 1, 1, 2, 3, 3, 1, 2, 3, 1, 2, 3, 2, 3, 1, 2, 3, 1, 3, 1, 2, 3, 1, 2, 3, 1, 2, 3, 2, 3, 1, 2, 3, 1, 3, 1, 2, 3, 1, 2, 3, 2, 3, 1, 2, 3, 3, 2, 3, 2, 3, 2, 3, 2, 3, 2, 3, 2, 3, 2, 3, 1, 2, 3, 2, 3, 2, 1, 2, 3, 1, 2, 3, 1, 2, 3, 3, 1, 2, 3, 1, 2, 3, 1, 2, 3, 1, 2, 3, 1, 2, 3, 1, 1, 2, 3, 1, 2, 3, 2, 1, 2, 3, 1, 2, 1, 1, 3, 1, 2, 3, 1, 2, 3, 1, 2, 3, 1, 1, 2, 3, 3, 1, 2, 3, 3, 1, 2, 3, 1, 2, 3, 1, 2, 3, 1, 2, 3, 1, 2, 3, 1, 2, 3, 1, 2, 3, 1, 2, 3, 2, 1, 2, 3, 1, 2, 3, 1, 2, 3, 2, 1, 2, 3, 1, 2, 3, 1, 2, 3, 2, 3, 2, 1, 1, 1, 2, 3, 1, 1, 2, 3, 1, 2, 3, 1, 2, 3, 1, 2, 3, 1, 2, 3, 1, 1, 2, 3, 1, 2, 1, 1, 2, 3, 2, 2, 3, 1, 2, 3, 1, 2, 3, 1, 2, 3, 1, 2, 3, 1, 2, 3, 1, 2, 3, 1, 3, 1, 2, 3, 1, 2, 3, 1, 2, 3, 2, 1, 2, 3, 1, 2, 3, 1, 1, 2, 3, 1, 2, 3, 1, 2, 3, 2, 1, 2, 3, 1, 2, 3, 1, 2, 3, 1, 2, 1, 2, 3, 3, 1, 2, 3, 2, 3, 1, 2, 3, 1, 2, 3, 1, 2, 3, 1, 2, 3, 1, 2, 3, 1, 2, 3, 1, 1, 2, 3, 1, 3, 1, 2, 3, 1, 3, 1, 2, 3, 1, 2, 3, 1, 2, 3, 1, 2, 3, 1, 2, 3, 1, 2, 3, 1, 2, 3, 1, 2, 2, 1, 2, 3, 1, 2, 3, 1, 2, 3, 1, 1, 2, 3, 1, 2, 3, 2, 1, 2, 3, 1, 2, 3, 2, 1, 2, 3, 1, 2, 3, 1, 2, 3, 1, 2, 3, 1, 2, 3, 1, 2, 3, 1, 1, 2, 3, 3, 1, 2, 3, 1, 2, 3, 1, 2, 3, 1, 2, 3, 1, 2, 3, 3, 1, 2, 3, 1, 2, 3, 1, 2, 3, 1, 2, 3, 2, 1, 2, 3, 1, 2, 3, 1, 2, 3, 1, 2, 3, 1, 2, 3, 1, 2, 3, 1, 2, 3, 1, 2, 3, 1, 2, 3, 1, 2, 3, 1, 2, 3, 1, 2, 3, 1, 2, 3, 1, 2, 3, 1, 2, 3], \"Freq\": [0.9032581961693114, 0.8955848659464011, 0.8708105147633652, 0.12440150210905218, 0.7995822265920595, 0.07995822265920595, 0.1599164453184119, 0.8392630674553321, 0.175071680417451, 0.6030246769934423, 0.21397649828799567, 0.10263661304867058, 0.8210929043893647, 0.10263661304867058, 0.21269551587073574, 0.5636431170574496, 0.2339650674578093, 0.8468982476649568, 0.5456929340900073, 0.25679667486588575, 0.19259750614941434, 0.5451443608433343, 0.25728775908961105, 0.19615007376138663, 0.46114582848652474, 0.3261763177099809, 0.21932545501188372, 0.8952109748834072, 0.07460091457361727, 0.07460091457361727, 0.07506474930428139, 0.07506474930428139, 0.9007769916513767, 0.1853161565351673, 0.6233361628910173, 0.20216307985654616, 0.8471027985152304, 0.2717223449857821, 0.6772780837705316, 0.052722246042017425, 0.8608024481679875, 0.08608024481679875, 0.4875572491599244, 0.29045963779740175, 0.2247604340098942, 0.7994789135728843, 0.15989578271457686, 0.8951642715195938, 0.9039866415390513, 0.9419366289139928, 0.9320261381519841, 0.04174891945410225, 0.166995677816409, 0.7932294696279427, 0.9031400006132415, 0.2372533305649172, 0.4967491608702954, 0.27432416346568556, 0.8392282750051172, 0.7908118457344162, 0.19770296143360405, 0.06590098714453468, 0.8440651748719235, 0.6057690132820384, 0.2511725177023086, 0.14036111283364303, 0.16606598437291958, 0.30840825669256494, 0.5337835211986701, 0.8063850096542597, 0.16127700193085195, 0.36208108476505546, 0.3148531171870047, 0.3187887811518423, 0.8394912863938554, 0.8441425120399908, 0.4388158535688938, 0.29396401841022984, 0.2684019298528185, 0.23682551362400248, 0.7244074534381252, 0.027861825132235587, 0.7730517141016098, 0.11595775711524146, 0.11595775711524146, 0.18772815046035302, 0.7509126018414121, 0.15046120390430023, 0.7523060195215012, 0.07523060195215012, 0.09383560493323288, 0.8445204443990959, 0.12542056051556014, 0.8779439236089209, 0.12542056051556014, 0.24704806706393365, 0.5585434559706326, 0.19334196552829588, 0.06437521598666308, 0.9012530238132831, 0.27107742201402063, 0.47014990380556704, 0.25837066785711343, 0.9378638506150627, 0.18759172155507225, 0.750366886220289, 0.18801651077809622, 0.7520660431123849, 0.18771133087844966, 0.7508453235137986, 0.18768078364147853, 0.7507231345659141, 0.18774902140924615, 0.7509960856369846, 0.18773775870346157, 0.7509510348138463, 0.18769462656184327, 0.7507785062473731, 0.2423949140002024, 0.5964549007420711, 0.16341230157317016, 0.2253727770816307, 0.7888047197857074, 0.8465796238254524, 0.7112833486914905, 0.2462134668547467, 0.027357051872749633, 0.3011895136258129, 0.2670925875549662, 0.4318943968973922, 0.16920883615753265, 0.7332382900159748, 0.05640294538584422, 0.8441409182464679, 0.1469997457993155, 0.22049961869897322, 0.6369988984637004, 0.23299538236911388, 0.40869681825401943, 0.3590420646343722, 0.2855954510678061, 0.2774355810372974, 0.44879285167798105, 0.3142090181224141, 0.3883482246456803, 0.3000872644989348, 0.3415602115768841, 0.2634893060735963, 0.3936074819124093, 0.8951064368961201, 0.03895531820590368, 0.7011957277062663, 0.27268722744132573, 0.1597197757675706, 0.5412725734345447, 0.29725624934520084, 0.8468985437589475, 0.22336875879977586, 0.35168698194007264, 0.4277274104676559, 0.1411752769016855, 0.847051661410113, 0.8395973386622807, 0.14076410706459572, 0.8445846423875744, 0.3068662833164438, 0.213876500493279, 0.4835468706804568, 0.6581597817375174, 0.21938659391250578, 0.12188144106250322, 0.3146623127651483, 0.29810113840908786, 0.38642740164141015, 0.8954264784679397, 0.4505385064805694, 0.2847743390018693, 0.26564770429278856, 0.9008886855843561, 0.689053984529564, 0.11967779731302954, 0.18858319576598592, 0.8443735317201163, 0.48238088585771016, 0.23909313472947372, 0.276844682318338, 0.32353180779113283, 0.3136680331633544, 0.3629869063022466, 0.30013823887792884, 0.6684897138644779, 0.03183284351735609, 0.10859770018969982, 0.8036229814037786, 0.08687816015175985, 0.25967797765861156, 0.17311865177240773, 0.5626356182603252, 0.5230836418794703, 0.34636619529856816, 0.12723656153824953, 0.2811601510448468, 0.08033147172709909, 0.6426517738167927, 0.20562568925497413, 0.72759859274837, 0.06854189641832471, 0.9798608622647843, 0.16082701440393862, 0.08041350720196931, 0.7237215648177239, 0.43681867596550605, 0.2551713057620283, 0.30707055439159336, 0.5732527815829844, 0.19265052495821608, 0.23024087129152654, 0.8465888298845495, 0.5499623935935384, 0.1346846678188257, 0.31426422491059336, 0.2876556161054134, 0.45545472550023786, 0.25889005449487207, 0.43656792422442514, 0.39034308518889776, 0.16949107646360034, 0.8068832771317269, 0.16137665542634538, 0.9414478045091058, 0.978344974715337, 0.8394671125519811, 0.17319756763053817, 0.08659878381526909, 0.7793890543374218, 0.8954982455615764, 0.285578291656194, 0.4844364738042244, 0.22876166818532817, 0.06827356835453118, 0.2048207050635935, 0.7168724677225773, 0.17311101541206966, 0.08655550770603483, 0.6924440616482787, 0.2476119171398168, 0.7153233161816931, 0.04126865285663614, 0.7938267686960194, 0.1400870768287093, 0.09339138455247288, 0.8949355888989834, 0.43504793445591994, 0.34711271366163826, 0.21752396722795997, 0.959116356453494, 0.9687577553559036, 0.9325051021269434, 0.4751516133643152, 0.17963048797919234, 0.34767191221779165, 0.9048676507386847, 0.7530975097802244, 0.1882743774450561, 0.7636920922540439, 0.15273841845080877, 0.05091280615026959, 0.8621953037516799, 0.08621953037516798, 0.08621953037516798, 0.4323720503175127, 0.3754087484502848, 0.1921653556966723, 0.24113569088958187, 0.19290855271166552, 0.5465742326830523, 0.12508136441435677, 0.07147506537963244, 0.821963251865773, 0.23386580493751943, 0.4774760184141022, 0.2890841199922115, 0.8710721143423399, 0.12443887347747713, 0.8706493583412175, 0.12437847976303108, 0.12437847976303108, 0.28193521235100016, 0.6723070448370004, 0.06506197208100005, 0.1407219599263737, 0.1407219599263737, 0.8443317595582422, 0.8468965829264615, 0.5333732589555649, 0.2762111519591318, 0.19049044962698744, 0.6682584044008588, 0.19093097268595965, 0.14319822951446975, 0.8954237164844215, 0.2251915383331364, 0.287313342011243, 0.4814439785053261, 0.5513945180016526, 0.21053245232790374, 0.2406085169461757, 0.6333565719278054, 0.11581377315251298, 0.24972344836010613, 0.8465301801112252, 0.250678100042561, 0.7241811779007319, 0.027853122226951226, 0.19856623807740909, 0.06618874602580303, 0.7280762062838333, 0.3835341079978077, 0.22839671599869446, 0.387843479997783, 0.18813418211474336, 0.7525367284589735, 0.33582664193155387, 0.33582664193155387, 0.32675024620367404, 0.900407268568668, 0.5479365771444701, 0.17965133676867873, 0.2694770051530181, 0.2253013827920427, 0.9012055311681708, 0.25977116692297814, 0.20565217381402437, 0.5303661324677471, 0.10271313617623931, 0.8217050894099145, 0.10271313617623931, 0.14067828175562108, 0.14067828175562108, 0.8440696905337264, 0.8144790772273224, 0.1018098846534153, 0.1018098846534153, 0.4371875970462299, 0.2602307125275178, 0.3018676265319207, 0.20466449810524648, 0.46390619570522534, 0.3274631969683944, 0.8387970732568149, 0.3595092041768482, 0.3806568044225451, 0.2608204030302624, 0.08044466261774637, 0.9653359514129564, 0.2168636689650533, 0.5783031172401422, 0.20240609103404975, 0.09388055010960626, 0.9388055010960626, 0.1205992126635651, 0.0401997375545217, 0.8441944886449557, 0.3492112631502666, 0.2821909197173872, 0.36684819563260335, 0.1719014041859255, 0.3099861386959312, 0.5157042125577765, 0.5252120410786099, 0.15352351969990133, 0.3151272246471659, 0.27354963845376645, 0.42412742108886725, 0.3011555652702016, 0.3017677682492852, 0.4048717557344576, 0.2917088426409757, 0.13288091378826966, 0.7308450258354832, 0.13288091378826966, 0.1613099369821548, 0.806549684910774, 0.8466750611674259, 0.45065364596955276, 0.3484044994050324, 0.2007112877007252, 0.627645092798868, 0.24725412746622075, 0.13313683786642655, 0.13650532171443952, 0.23888431300026916, 0.6142739477149778, 0.8952149809603911, 0.1411507085777571, 0.8469042514665426, 0.1411507085777571, 0.3727667344643682, 0.3650808224135565, 0.2613210097275983, 0.9037098611746451, 0.13253105787965833, 0.19879658681948748, 0.6626552893982917, 0.28757970930457827, 0.4018237034118765, 0.3072769496679056, 0.9035182259233453, 0.7473809077912108, 0.1868452269478027, 0.09342261347390135, 0.28091463671587374, 0.5199909232825748, 0.20321484358169592, 0.3621900358015044, 0.30423963007326366, 0.333214832937384, 0.6154659183010779, 0.29234631119301197, 0.09231988774516169, 0.11877591509646883, 0.7126554905788131, 0.11877591509646883, 0.07067150333215301, 0.8480580399858361, 0.07067150333215301, 0.8395953086973592, 0.09390273196486, 0.18780546392972, 0.75122185571888, 0.9385647194750475, 0.385926835329364, 0.43952778468066456, 0.17509643454758184, 0.32003930145946713, 0.3616028471035538, 0.32003930145946713, 0.14123572771959342, 0.8474143663175605, 0.14123572771959342, 0.64369348834522, 0.20230366776564057, 0.14712994019319314, 0.4054350313946186, 0.3879969655281834, 0.20489727393061372, 0.9220611240030703, 0.05642554315916217, 0.22570217263664868, 0.7335320610691082, 0.31994330223433626, 0.4337692847600136, 0.24918661039405038, 0.7844999718767763, 0.1120714245538252, 0.1120714245538252, 0.18409111951648804, 0.5081952031722768, 0.3111399203095572, 0.8469858081345345, 0.5922459085011683, 0.2538196750719293, 0.15619672312118726, 0.29035621572178166, 0.4229101402904212, 0.2872001698987188, 0.8703642971964238, 0.12433775674234625, 0.12433775674234625, 0.7664741626937418, 0.11791910195288335, 0.11791910195288335, 0.37599550077287375, 0.22356489235143845, 0.39970692874954145, 0.40208827273295616, 0.4971273190152912, 0.09503904628233509, 0.2230235711070926, 0.301081820994575, 0.479500677880249, 0.7346459921249214, 0.15466231413156242, 0.07733115706578121, 0.45490062492655775, 0.31297162994947175, 0.22926991496298513, 0.1254805336333547, 0.7528832018001282, 0.1254805336333547, 0.34269123614695673, 0.31019465340888325, 0.345645470941327, 0.4354723424506696, 0.25841215925644134, 0.3014808524658482, 0.8799441463399058, 0.07999492239453689, 0.07999492239453689, 0.4384275979348172, 0.2767125003359092, 0.2874935068425031, 0.8792470374051936, 0.0799315488550176, 0.0799315488550176], \"Term\": [\"-val\", \"acsddc\", \"adamski\", \"adamski\", \"alice\", \"alice\", \"alice\", \"alird\", \"alomar\", \"alomar\", \"alomar\", \"altitude\", \"altitude\", \"altitude\", \"analysis\", \"analysis\", \"analysis\", \"antero\", \"anybody\", \"anybody\", \"anybody\", \"anyone\", \"anyone\", \"anyone\", \"anything\", \"anything\", \"anything\", \"asd.com\", \"asd.com\", \"asd.com\", \"atl\", \"atl\", \"atl\", \"baerga\", \"baerga\", \"baerga\", \"balick\", \"banks\", \"banks\", \"banks\", \"barman\", \"barman\", \"baseball\", \"baseball\", \"baseball\", \"bbenowit\", \"bbenowit\", \"benowitz\", \"binkley\", \"bockamp\", \"bohnert\", \"bolson\", \"bolson\", \"bolson\", \"braun\", \"braves\", \"braves\", \"braves\", \"brenn\", \"bu.edu\", \"bu.edu\", \"bu.edu\", \"bytor\", \"cancer\", \"cancer\", \"cancer\", \"candida\", \"candida\", \"candida\", \"capelli\", \"capelli\", \"case\", \"case\", \"case\", \"cavalier\", \"ccw\", \"center\", \"center\", \"center\", \"chastity\", \"chastity\", \"chastity\", \"chen\", \"chen\", \"chen\", \"chert\", \"chert\", \"chop\", \"chop\", \"chop\", \"cin\", \"cin\", \"cirrhosis\", \"cirrhosis\", \"cirrhosis\", \"city\", \"city\", \"city\", \"col\", \"col\", \"color\", \"color\", \"color\", \"compass1\", \"compass2\", \"compass2\", \"compass3\", \"compass3\", \"compass4\", \"compass4\", \"compass5\", \"compass5\", \"compass6\", \"compass6\", \"compass7\", \"compass7\", \"compass8\", \"compass8\", \"computer\", \"computer\", \"computer\", \"coplanar\", \"coplanar\", \"cormack\", \"corn\", \"corn\", \"corn\", \"course\", \"course\", \"course\", \"covington\", \"covington\", \"covington\", \"ctds\", \"cub\", \"cub\", \"cub\", \"data\", \"data\", \"data\", \"dave\", \"dave\", \"dave\", \"david\", \"david\", \"david\", \"day\", \"day\", \"day\", \"delino\", \"demers\", \"demers\", \"demers\", \"disease\", \"disease\", \"disease\", \"dixie.com\", \"doctor\", \"doctor\", \"doctor\", \"dv/x\", \"dv/x\", \"erikb\", \"euclid\", \"euclid\", \"evidence\", \"evidence\", \"evidence\", \"eye\", \"eye\", \"eye\", \"fan\", \"fan\", \"fan\", \"fath\", \"file\", \"file\", \"file\", \"flo\", \"food\", \"food\", \"food\", \"fopen\", \"format\", \"format\", \"format\", \"game\", \"game\", \"game\", \"geb\", \"geb\", \"geb\", \"georgia\", \"georgia\", \"georgia\", \"giants\", \"giants\", \"giants\", \"gif\", \"gif\", \"gif\", \"gilbert\", \"gilbert\", \"gilbert\", \"gordon\", \"gordon\", \"gordon\", \"graeme\", \"gram\", \"gram\", \"gram\", \"graphic\", \"graphic\", \"graphic\", \"group\", \"group\", \"group\", \"haber\", \"hall\", \"hall\", \"hall\", \"health\", \"health\", \"health\", \"help\", \"help\", \"help\", \"henrik\", \"henrik\", \"hep\", \"holler\", \"holli\", \"hou\", \"hou\", \"hou\", \"ilmenau\", \"image\", \"image\", \"image\", \"int\", \"int\", \"int\", \"intake\", \"intake\", \"intake\", \"intellect\", \"intellect\", \"intellect\", \"jewish\", \"jewish\", \"jewish\", \"jmcocker\", \"jpeg\", \"jpeg\", \"jpeg\", \"jr0930\", \"julkunen\", \"kaufman\", \"keywords\", \"keywords\", \"keywords\", \"khun\", \"kilmer\", \"kilmer\", \"koufax\", \"koufax\", \"koufax\", \"lame\", \"lame\", \"lame\", \"lines\", \"lines\", \"lines\", \"los\", \"los\", \"los\", \"lost\", \"lost\", \"lost\", \"lot\", \"lot\", \"lot\", \"lucas\", \"lucas\", \"lundby\", \"lundby\", \"lundby\", \"lyme\", \"lyme\", \"lyme\", \"magnesium\", \"magnesium\", \"magnesium\", \"maier\", \"mail\", \"mail\", \"mail\", \"marc\", \"marc\", \"marc\", \"mckay\", \"medicine\", \"medicine\", \"medicine\", \"mike\", \"mike\", \"mike\", \"msg\", \"msg\", \"msg\", \"myles\", \"n3jxp\", \"n3jxp\", \"n3jxp\", \"needle\", \"needle\", \"needle\", \"new\", \"new\", \"new\", \"nieporent\", \"nieporent\", \"number\", \"number\", \"number\", \"nym\", \"object\", \"object\", \"object\", \"op_rows\", \"op_rows\", \"order\", \"order\", \"order\", \"orin\", \"orin\", \"orin\", \"oxalate\", \"oxalate\", \"oxalate\", \"ozonoff\", \"ozonoff\", \"ozonoff\", \"package\", \"package\", \"package\", \"patient\", \"patient\", \"patient\", \"pedis\", \"people\", \"people\", \"people\", \"phi\", \"phi\", \"physician\", \"physician\", \"physician\", \"pit\", \"pit\", \"pittsburg\", \"pittsburg\", \"pittsburg\", \"player\", \"player\", \"player\", \"point\", \"point\", \"point\", \"polygon\", \"polygon\", \"polygon\", \"problem\", \"problem\", \"problem\", \"program\", \"program\", \"program\", \"programs\", \"programs\", \"programs\", \"prolactin\", \"prolactin\", \"qed\", \"question\", \"question\", \"question\", \"reality\", \"reality\", \"reality\", \"reds\", \"reds\", \"reds\", \"reiniger\", \"reprint\", \"reprint\", \"reprint\", \"research\", \"research\", \"research\", \"rokne\", \"row\", \"row\", \"row\", \"run\", \"run\", \"run\", \"s_braun\", \"sandy\", \"sandy\", \"sandy\", \"science\", \"science\", \"science\", \"season\", \"season\", \"season\", \"seizure\", \"seizure\", \"seizure\", \"sepinwall\", \"sepinwall\", \"sepinwall\", \"seth\", \"seth\", \"seth\", \"skinner\", \"snd\", \"snd\", \"snd\", \"snf\", \"software\", \"software\", \"software\", \"something\", \"something\", \"something\", \"speculum\", \"speculum\", \"speculum\", \"spot\", \"spot\", \"spot\", \"steve\", \"steve\", \"steve\", \"stl\", \"suck\", \"suck\", \"suck\", \"system\", \"system\", \"system\", \"tdawson\", \"tdawson\", \"tdawson\", \"team\", \"team\", \"team\", \"tham\", \"thanks\", \"thanks\", \"thanks\", \"thing\", \"thing\", \"thing\", \"tiang\", \"tiang\", \"tiang\", \"ticket\", \"ticket\", \"ticket\", \"time\", \"time\", \"time\", \"univ\", \"univ\", \"univ\", \"value\", \"value\", \"value\", \"vb30\", \"vb30\", \"vb30\", \"version\", \"version\", \"version\", \"vida\", \"vida\", \"vida\", \"way\", \"way\", \"way\", \"week\", \"week\", \"week\", \"wondering\", \"wondering\", \"wondering\", \"world\", \"world\", \"world\", \"yogi\", \"yogi\", \"yogi\"]}, \"R\": 30, \"lambda.step\": 0.01, \"plot.opts\": {\"xlab\": \"PC1\", \"ylab\": \"PC2\"}, \"topic.order\": [2, 1, 3]};\n",
       "\n",
       "function LDAvis_load_lib(url, callback){\n",
       "  var s = document.createElement('script');\n",
       "  s.src = url;\n",
       "  s.async = true;\n",
       "  s.onreadystatechange = s.onload = callback;\n",
       "  s.onerror = function(){console.warn(\"failed to load library \" + url);};\n",
       "  document.getElementsByTagName(\"head\")[0].appendChild(s);\n",
       "}\n",
       "\n",
       "if(typeof(LDAvis) !== \"undefined\"){\n",
       "   // already loaded: just create the visualization\n",
       "   !function(LDAvis){\n",
       "       new LDAvis(\"#\" + \"ldavis_el171721396723970240167266697538\", ldavis_el171721396723970240167266697538_data);\n",
       "   }(LDAvis);\n",
       "}else if(typeof define === \"function\" && define.amd){\n",
       "   // require.js is available: use it to load d3/LDAvis\n",
       "   require.config({paths: {d3: \"https://cdnjs.cloudflare.com/ajax/libs/d3/3.5.5/d3.min\"}});\n",
       "   require([\"d3\"], function(d3){\n",
       "      window.d3 = d3;\n",
       "      LDAvis_load_lib(\"https://cdn.rawgit.com/bmabey/pyLDAvis/files/ldavis.v1.0.0.js\", function(){\n",
       "        new LDAvis(\"#\" + \"ldavis_el171721396723970240167266697538\", ldavis_el171721396723970240167266697538_data);\n",
       "      });\n",
       "    });\n",
       "}else{\n",
       "    // require.js not available: dynamically load d3 & LDAvis\n",
       "    LDAvis_load_lib(\"https://cdnjs.cloudflare.com/ajax/libs/d3/3.5.5/d3.min.js\", function(){\n",
       "         LDAvis_load_lib(\"https://cdn.rawgit.com/bmabey/pyLDAvis/files/ldavis.v1.0.0.js\", function(){\n",
       "                 new LDAvis(\"#\" + \"ldavis_el171721396723970240167266697538\", ldavis_el171721396723970240167266697538_data);\n",
       "            })\n",
       "         });\n",
       "}\n",
       "</script>"
      ],
      "text/plain": [
       "PreparedData(topic_coordinates=              x         y  topics  cluster       Freq\n",
       "topic                                                \n",
       "1      0.022966  0.015492       1        1  35.789529\n",
       "0      0.002799 -0.026429       2        1  34.816291\n",
       "2     -0.025765  0.010938       3        1  29.394180, topic_info=        Term        Freq       Total Category  logprob  loglift\n",
       "3      banks  246.000000  246.000000  Default  30.0000  30.0000\n",
       "13       geb  219.000000  219.000000  Default  29.0000  29.0000\n",
       "304    point  354.000000  354.000000  Default  28.0000  28.0000\n",
       "143     food  275.000000  275.000000  Default  27.0000  27.0000\n",
       "14    gordon  189.000000  189.000000  Default  26.0000  26.0000\n",
       "..       ...         ...         ...      ...      ...      ...\n",
       "82     world   79.739566  278.267154   Topic3  -6.1251  -0.0254\n",
       "589   season   69.109981  207.073615   Topic3  -6.2681   0.1270\n",
       "639   system   80.690221  325.057594   Topic3  -6.1132  -0.1690\n",
       "109  graphic   71.188757  231.217220   Topic3  -6.2385   0.0464\n",
       "0     anyone   77.481134  392.556569   Topic3  -6.1538  -0.3983\n",
       "\n",
       "[279 rows x 6 columns], token_table=      Topic      Freq     Term\n",
       "term                          \n",
       "6208      2  0.903258     -val\n",
       "6700      1  0.895585   acsddc\n",
       "4488      1  0.870811  adamski\n",
       "4488      3  0.124402  adamski\n",
       "5684      1  0.799582    alice\n",
       "...     ...       ...      ...\n",
       "82        2  0.276713    world\n",
       "82        3  0.287494    world\n",
       "2782      1  0.879247     yogi\n",
       "2782      2  0.079932     yogi\n",
       "2782      3  0.079932     yogi\n",
       "\n",
       "[505 rows x 3 columns], R=30, lambda_step=0.01, plot_opts={'xlab': 'PC1', 'ylab': 'PC2'}, topic_order=[2, 1, 3])"
      ]
     },
     "execution_count": 62,
     "metadata": {},
     "output_type": "execute_result"
    }
   ],
   "source": [
    "# 시각화... 존내어렵다\n",
    "import pyLDAvis\n",
    "import pyLDAvis.gensim\n",
    "\n",
    "pyLDAvis.enable_notebook()\n",
    "vis = pyLDAvis.gensim.prepare(model, doc_term_matrix, dictionary)\n",
    "vis"
   ]
  },
  {
   "cell_type": "code",
   "execution_count": 74,
   "metadata": {},
   "outputs": [],
   "source": [
    "### 확률론적 언어모형 바이그램을 이용한 예제"
   ]
  },
  {
   "cell_type": "code",
   "execution_count": 66,
   "metadata": {},
   "outputs": [
    {
     "data": {
      "text/plain": [
       "[('SS', 'plot'),\n",
       " ('plot', ':'),\n",
       " (':', 'two'),\n",
       " ('two', 'teen'),\n",
       " ('teen', 'couples'),\n",
       " ('couples', 'go'),\n",
       " ('go', 'to'),\n",
       " ('to', 'a'),\n",
       " ('a', 'church'),\n",
       " ('church', 'party'),\n",
       " ('party', ','),\n",
       " (',', 'drink'),\n",
       " ('drink', 'and'),\n",
       " ('and', 'then'),\n",
       " ('then', 'drive'),\n",
       " ('drive', '.'),\n",
       " ('.', 'SE')]"
      ]
     },
     "execution_count": 66,
     "metadata": {},
     "output_type": "execute_result"
    }
   ],
   "source": [
    "\n",
    "from nltk.corpus import movie_reviews\n",
    "from nltk.util import ngrams\n",
    "sentences = []\n",
    "for tokens in movie_reviews.sents():# 문장 단위로 끊음 \n",
    "    bigram = ngrams(tokens, 2, pad_left = True, pad_right=True, left_pad_symbol=\"SS\", right_pad_symbol=\"SE\")\n",
    "    sentences += [t for t in bigram]\n",
    "\n",
    "sentences[:17]"
   ]
  },
  {
   "cell_type": "code",
   "execution_count": 67,
   "metadata": {},
   "outputs": [],
   "source": [
    "from nltk import ConditionalFreqDist\n",
    "\n",
    "cfd = ConditionalFreqDist(sentences)"
   ]
  },
  {
   "cell_type": "code",
   "execution_count": 68,
   "metadata": {},
   "outputs": [
    {
     "data": {
      "text/plain": [
       "[('the', 8071), ('.', 3173), ('it', 3136), ('i', 2471), ('but', 1814)]"
      ]
     },
     "execution_count": 68,
     "metadata": {},
     "output_type": "execute_result"
    }
   ],
   "source": [
    "cfd[\"SS\"].most_common(5) # 문장 시작에 제일 많이 나올수있는 5가지는 무엇인가?"
   ]
  },
  {
   "cell_type": "code",
   "execution_count": 70,
   "metadata": {},
   "outputs": [],
   "source": [
    "import matplotlib.pyplot as plt"
   ]
  },
  {
   "cell_type": "code",
   "execution_count": 72,
   "metadata": {},
   "outputs": [
    {
     "data": {
      "image/png": "[encoded data removed]",
      "text/plain": [
       "<Figure size 432x288 with 1 Axes>"
      ]
     },
     "metadata": {
      "needs_background": "light"
     },
     "output_type": "display_data"
    }
   ],
   "source": [
    "cfd[\"SS\"].plot(5, title = \"ddddd\")\n",
    "plt.show()"
   ]
  },
  {
   "cell_type": "code",
   "execution_count": 73,
   "metadata": {},
   "outputs": [
    {
     "data": {
      "text/plain": [
       "[(\"'\", 1357), ('was', 506), ('can', 351), ('have', 330), ('don', 276)]"
      ]
     },
     "execution_count": 73,
     "metadata": {},
     "output_type": "execute_result"
    }
   ],
   "source": [
    "cfd[\"i\"].most_common(5) # "
   ]
  },
  {
   "cell_type": "code",
   "execution_count": 75,
   "metadata": {},
   "outputs": [
    {
     "data": {
      "text/plain": [
       "[('SE', 63404), ('\"', 1854), (')', 535), (\"'\", 70), (']', 10)]"
      ]
     },
     "execution_count": 75,
     "metadata": {},
     "output_type": "execute_result"
    }
   ],
   "source": [
    "cfd[\".\"].most_common(5) #"
   ]
  },
  {
   "cell_type": "code",
   "execution_count": 77,
   "metadata": {},
   "outputs": [],
   "source": [
    "# 조건부 확률 추정\n",
    "\n",
    "from nltk.probability import ConditionalProbDist, MLEProbDist\n",
    "\n",
    "cpd = ConditionalProbDist(cfd, MLEProbDist)"
   ]
  },
  {
   "cell_type": "code",
   "execution_count": 78,
   "metadata": {},
   "outputs": [
    {
     "data": {
      "text/plain": [
       "0.018562267971650354"
      ]
     },
     "execution_count": 78,
     "metadata": {},
     "output_type": "execute_result"
    }
   ],
   "source": [
    "cpd[\"i\"].prob(\"am\")"
   ]
  },
  {
   "cell_type": "code",
   "execution_count": 79,
   "metadata": {},
   "outputs": [
    {
     "data": {
      "text/plain": [
       "0.0002249971875351558"
      ]
     },
     "execution_count": 79,
     "metadata": {},
     "output_type": "execute_result"
    }
   ],
   "source": [
    "cpd[\"i\"].prob(\"is\")"
   ]
  },
  {
   "cell_type": "code",
   "execution_count": 80,
   "metadata": {},
   "outputs": [
    {
     "data": {
      "text/plain": [
       "0.0"
      ]
     },
     "execution_count": 80,
     "metadata": {},
     "output_type": "execute_result"
    }
   ],
   "source": [
    "cpd[\"we\"].prob(\"is\")"
   ]
  },
  {
   "cell_type": "code",
   "execution_count": 88,
   "metadata": {},
   "outputs": [],
   "source": [
    "import numpy as np\n",
    "def sentence_score(s):\n",
    "    p = 0.0\n",
    "    for i in range(len(s)-1):\n",
    "        c = s[i]\n",
    "        w = s[i + 1]\n",
    "        p += np.log(cpd[c].prob(w) + np.finfo(float).eps)\n",
    "        \"\"\"아주 미약하게 작은 수 첨가 (로그안에 0이 나오면 안되니까)\"\"\"\n",
    "    return np.exp(p)"
   ]
  },
  {
   "cell_type": "code",
   "execution_count": 89,
   "metadata": {},
   "outputs": [
    {
     "data": {
      "text/plain": [
       "2.740764134071561e-06"
      ]
     },
     "execution_count": 89,
     "metadata": {},
     "output_type": "execute_result"
    }
   ],
   "source": [
    "test_sentence = [\"i\", \"like\", \"the\", \"movie\", \".\"]\n",
    "sentence_score(test_sentence)"
   ]
  },
  {
   "cell_type": "code",
   "execution_count": 90,
   "metadata": {},
   "outputs": [],
   "source": [
    "# 무작위 문장 생성\n",
    "\n",
    "def generate_sentence(seed=None):\n",
    "    if seed is not None:\n",
    "        import random\n",
    "        random.seed(seed)\n",
    "    c= \"SS\"\n",
    "    sentence = []\n",
    "    while True:\n",
    "        if c not in cpd:\n",
    "            break\n",
    "        w = cpd[c].generate()\n",
    "        \n",
    "        if w == \"SE\":\n",
    "            break\n",
    "        else:\n",
    "            w2 = w\n",
    "            \n",
    "        if c == \"SS\":\n",
    "            sentence.append(w2.title())\n",
    "        else:\n",
    "            sentence.append(\" \" + w2)\n",
    "        c = w\n",
    "    return \"\".join(sentence)"
   ]
  },
  {
   "cell_type": "code",
   "execution_count": 100,
   "metadata": {},
   "outputs": [
    {
     "data": {
      "text/plain": [
       "\"He was designed piece of days , doesn ' ve had , i love have not .\""
      ]
     },
     "execution_count": 100,
     "metadata": {},
     "output_type": "execute_result"
    }
   ],
   "source": [
    "generate_sentence()"
   ]
  },
  {
   "cell_type": "code",
   "execution_count": 92,
   "metadata": {},
   "outputs": [
    {
     "data": {
      "text/plain": [
       "\"You ' s friend of course , is filled bullets in 1980s , however , who feel .\""
      ]
     },
     "execution_count": 92,
     "metadata": {},
     "output_type": "execute_result"
    }
   ],
   "source": []
  },
  {
   "cell_type": "code",
   "execution_count": null,
   "metadata": {},
   "outputs": [],
   "source": []
  }
 ],
 "metadata": {
  "kernelspec": {
   "display_name": "Python 3",
   "language": "python",
   "name": "python3"
  },
  "language_info": {
   "codemirror_mode": {
    "name": "ipython",
    "version": 3
   },
   "file_extension": ".py",
   "mimetype": "text/x-python",
   "name": "python",
   "nbconvert_exporter": "python",
   "pygments_lexer": "ipython3",
   "version": "3.6.9"
  }
 },
 "nbformat": 4,
 "nbformat_minor": 4
}
